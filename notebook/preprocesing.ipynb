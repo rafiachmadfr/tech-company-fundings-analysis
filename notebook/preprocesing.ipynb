{
 "cells": [
  {
   "cell_type": "code",
   "execution_count": 176,
   "id": "6d07419b",
   "metadata": {},
   "outputs": [],
   "source": [
    "import pandas as pd"
   ]
  },
  {
   "cell_type": "code",
   "execution_count": 177,
   "id": "655c5ca9",
   "metadata": {},
   "outputs": [
    {
     "data": {
      "application/vnd.microsoft.datawrangler.viewer.v0+json": {
       "columns": [
        {
         "name": "index",
         "rawType": "int64",
         "type": "integer"
        },
        {
         "name": "Company",
         "rawType": "object",
         "type": "string"
        },
        {
         "name": "Website",
         "rawType": "object",
         "type": "string"
        },
        {
         "name": "Region",
         "rawType": "object",
         "type": "string"
        },
        {
         "name": "Vertical",
         "rawType": "object",
         "type": "string"
        },
        {
         "name": " Funding Amount (USD) ",
         "rawType": "object",
         "type": "string"
        },
        {
         "name": "Funding Stage",
         "rawType": "object",
         "type": "string"
        },
        {
         "name": "Funding Date",
         "rawType": "object",
         "type": "string"
        }
       ],
       "ref": "632cb636-9bae-47f7-bf00-cb56df079ae7",
       "rows": [
        [
         "0",
         "Internxt",
         "https://internxt.com/",
         "Spain",
         "Blockchain",
         "278.940",
         "Seed",
         "01/20"
        ],
        [
         "1",
         "Dockflow",
         "https://dockflow.com",
         "Belgium",
         "Logistics",
         "292.244",
         "Seed",
         "01/20"
        ],
        [
         "2",
         "api.video",
         "https://api.video",
         "France",
         "Developer APIs",
         "300.000",
         "Seed",
         "01/20"
        ],
        [
         "3",
         "Buck.ai",
         "https://buck.ai/",
         "United States",
         "Artificial Intelligence",
         "300.000",
         "Seed",
         "01/20"
        ],
        [
         "4",
         "Prodsight",
         "https://www.prodsight.ai",
         "United Kingdom",
         "Artificial Intelligence",
         "529.013",
         "Seed",
         "01/20"
        ],
        [
         "5",
         "Harvestr",
         "http://harvestr.io/",
         "France",
         "B2B Software",
         "650.000",
         "Angel",
         "01/20"
        ],
        [
         "6",
         "Seatrec",
         "http://seatrec.com/",
         "United States",
         "Marine Technology",
         "970.000",
         "Seed",
         "01/20"
        ],
        [
         "7",
         "BeeCanvas",
         "https://beecanvas.com/en",
         "United States",
         "B2B Software",
         "1.000.000",
         "Seed",
         "01/20"
        ],
        [
         "8",
         "SmartKarrot",
         "https://www.smartkarrot.com/",
         "United States",
         "B2B Software",
         "1.000.000",
         "Angel",
         "01/20"
        ],
        [
         "9",
         "Prisync",
         "https://prisync.com",
         "Turkey",
         "B2B Software",
         "1.100.000",
         "Seed",
         "01/20"
        ],
        [
         "10",
         "Fundraise Up",
         "https://fundraiseup.com",
         "United States",
         "B2B Software",
         "1.250.000",
         "Seed",
         "01/20"
        ],
        [
         "11",
         "Yac",
         "https://yac.chat",
         "United States",
         "B2B Software",
         "1.250.000",
         "Seed",
         "01/20"
        ],
        [
         "12",
         "Cloverleaf.me",
         "http://cloverleaf.me",
         "United States",
         "Human Resources",
         "1.300.000",
         "Seed",
         "01/20"
        ],
        [
         "13",
         "Docket",
         "https://dockethq.com",
         "United States",
         "B2B Software",
         "1.500.000",
         "Seed",
         "01/20"
        ],
        [
         "14",
         "Podsights",
         "https://podsights.com/",
         "United States",
         "Marketing",
         "1.500.000",
         "Seed",
         "01/20"
        ],
        [
         "15",
         "SIMBA Chain",
         "http://www.simbachain.com",
         "United States",
         "Blockchain",
         "1.500.000",
         "Seed",
         "01/20"
        ],
        [
         "16",
         "HeyTeam",
         "http://www.heyteam.com",
         "France",
         "B2B Software",
         "1.544.561",
         "Series A",
         "01/20"
        ],
        [
         "17",
         "Float",
         "https://www.floatapp.com",
         "United Kingdom",
         "B2B Software",
         "1.955.982",
         "Seed",
         "01/20"
        ],
        [
         "18",
         "Banxa",
         "https://banxa.com/",
         "Australia",
         "Blockchain",
         "2.000.000",
         "Series A",
         "01/20"
        ],
        [
         "19",
         "Defendify",
         "https://www.defendify.io/",
         "United States",
         "Cyber Security",
         "2.000.000",
         "Seed",
         "01/20"
        ]
       ],
       "shape": {
        "columns": 7,
        "rows": 20
       }
      },
      "text/html": [
       "<div>\n",
       "<style scoped>\n",
       "    .dataframe tbody tr th:only-of-type {\n",
       "        vertical-align: middle;\n",
       "    }\n",
       "\n",
       "    .dataframe tbody tr th {\n",
       "        vertical-align: top;\n",
       "    }\n",
       "\n",
       "    .dataframe thead th {\n",
       "        text-align: right;\n",
       "    }\n",
       "</style>\n",
       "<table border=\"1\" class=\"dataframe\">\n",
       "  <thead>\n",
       "    <tr style=\"text-align: right;\">\n",
       "      <th></th>\n",
       "      <th>Company</th>\n",
       "      <th>Website</th>\n",
       "      <th>Region</th>\n",
       "      <th>Vertical</th>\n",
       "      <th>Funding Amount (USD)</th>\n",
       "      <th>Funding Stage</th>\n",
       "      <th>Funding Date</th>\n",
       "    </tr>\n",
       "  </thead>\n",
       "  <tbody>\n",
       "    <tr>\n",
       "      <th>0</th>\n",
       "      <td>Internxt</td>\n",
       "      <td>https://internxt.com/</td>\n",
       "      <td>Spain</td>\n",
       "      <td>Blockchain</td>\n",
       "      <td>278.940</td>\n",
       "      <td>Seed</td>\n",
       "      <td>01/20</td>\n",
       "    </tr>\n",
       "    <tr>\n",
       "      <th>1</th>\n",
       "      <td>Dockflow</td>\n",
       "      <td>https://dockflow.com</td>\n",
       "      <td>Belgium</td>\n",
       "      <td>Logistics</td>\n",
       "      <td>292.244</td>\n",
       "      <td>Seed</td>\n",
       "      <td>01/20</td>\n",
       "    </tr>\n",
       "    <tr>\n",
       "      <th>2</th>\n",
       "      <td>api.video</td>\n",
       "      <td>https://api.video</td>\n",
       "      <td>France</td>\n",
       "      <td>Developer APIs</td>\n",
       "      <td>300.000</td>\n",
       "      <td>Seed</td>\n",
       "      <td>01/20</td>\n",
       "    </tr>\n",
       "    <tr>\n",
       "      <th>3</th>\n",
       "      <td>Buck.ai</td>\n",
       "      <td>https://buck.ai/</td>\n",
       "      <td>United States</td>\n",
       "      <td>Artificial Intelligence</td>\n",
       "      <td>300.000</td>\n",
       "      <td>Seed</td>\n",
       "      <td>01/20</td>\n",
       "    </tr>\n",
       "    <tr>\n",
       "      <th>4</th>\n",
       "      <td>Prodsight</td>\n",
       "      <td>https://www.prodsight.ai</td>\n",
       "      <td>United Kingdom</td>\n",
       "      <td>Artificial Intelligence</td>\n",
       "      <td>529.013</td>\n",
       "      <td>Seed</td>\n",
       "      <td>01/20</td>\n",
       "    </tr>\n",
       "    <tr>\n",
       "      <th>5</th>\n",
       "      <td>Harvestr</td>\n",
       "      <td>http://harvestr.io/</td>\n",
       "      <td>France</td>\n",
       "      <td>B2B Software</td>\n",
       "      <td>650.000</td>\n",
       "      <td>Angel</td>\n",
       "      <td>01/20</td>\n",
       "    </tr>\n",
       "    <tr>\n",
       "      <th>6</th>\n",
       "      <td>Seatrec</td>\n",
       "      <td>http://seatrec.com/</td>\n",
       "      <td>United States</td>\n",
       "      <td>Marine Technology</td>\n",
       "      <td>970.000</td>\n",
       "      <td>Seed</td>\n",
       "      <td>01/20</td>\n",
       "    </tr>\n",
       "    <tr>\n",
       "      <th>7</th>\n",
       "      <td>BeeCanvas</td>\n",
       "      <td>https://beecanvas.com/en</td>\n",
       "      <td>United States</td>\n",
       "      <td>B2B Software</td>\n",
       "      <td>1.000.000</td>\n",
       "      <td>Seed</td>\n",
       "      <td>01/20</td>\n",
       "    </tr>\n",
       "    <tr>\n",
       "      <th>8</th>\n",
       "      <td>SmartKarrot</td>\n",
       "      <td>https://www.smartkarrot.com/</td>\n",
       "      <td>United States</td>\n",
       "      <td>B2B Software</td>\n",
       "      <td>1.000.000</td>\n",
       "      <td>Angel</td>\n",
       "      <td>01/20</td>\n",
       "    </tr>\n",
       "    <tr>\n",
       "      <th>9</th>\n",
       "      <td>Prisync</td>\n",
       "      <td>https://prisync.com</td>\n",
       "      <td>Turkey</td>\n",
       "      <td>B2B Software</td>\n",
       "      <td>1.100.000</td>\n",
       "      <td>Seed</td>\n",
       "      <td>01/20</td>\n",
       "    </tr>\n",
       "    <tr>\n",
       "      <th>10</th>\n",
       "      <td>Fundraise Up</td>\n",
       "      <td>https://fundraiseup.com</td>\n",
       "      <td>United States</td>\n",
       "      <td>B2B Software</td>\n",
       "      <td>1.250.000</td>\n",
       "      <td>Seed</td>\n",
       "      <td>01/20</td>\n",
       "    </tr>\n",
       "    <tr>\n",
       "      <th>11</th>\n",
       "      <td>Yac</td>\n",
       "      <td>https://yac.chat</td>\n",
       "      <td>United States</td>\n",
       "      <td>B2B Software</td>\n",
       "      <td>1.250.000</td>\n",
       "      <td>Seed</td>\n",
       "      <td>01/20</td>\n",
       "    </tr>\n",
       "    <tr>\n",
       "      <th>12</th>\n",
       "      <td>Cloverleaf.me</td>\n",
       "      <td>http://cloverleaf.me</td>\n",
       "      <td>United States</td>\n",
       "      <td>Human Resources</td>\n",
       "      <td>1.300.000</td>\n",
       "      <td>Seed</td>\n",
       "      <td>01/20</td>\n",
       "    </tr>\n",
       "    <tr>\n",
       "      <th>13</th>\n",
       "      <td>Docket</td>\n",
       "      <td>https://dockethq.com</td>\n",
       "      <td>United States</td>\n",
       "      <td>B2B Software</td>\n",
       "      <td>1.500.000</td>\n",
       "      <td>Seed</td>\n",
       "      <td>01/20</td>\n",
       "    </tr>\n",
       "    <tr>\n",
       "      <th>14</th>\n",
       "      <td>Podsights</td>\n",
       "      <td>https://podsights.com/</td>\n",
       "      <td>United States</td>\n",
       "      <td>Marketing</td>\n",
       "      <td>1.500.000</td>\n",
       "      <td>Seed</td>\n",
       "      <td>01/20</td>\n",
       "    </tr>\n",
       "    <tr>\n",
       "      <th>15</th>\n",
       "      <td>SIMBA Chain</td>\n",
       "      <td>http://www.simbachain.com</td>\n",
       "      <td>United States</td>\n",
       "      <td>Blockchain</td>\n",
       "      <td>1.500.000</td>\n",
       "      <td>Seed</td>\n",
       "      <td>01/20</td>\n",
       "    </tr>\n",
       "    <tr>\n",
       "      <th>16</th>\n",
       "      <td>HeyTeam</td>\n",
       "      <td>http://www.heyteam.com</td>\n",
       "      <td>France</td>\n",
       "      <td>B2B Software</td>\n",
       "      <td>1.544.561</td>\n",
       "      <td>Series A</td>\n",
       "      <td>01/20</td>\n",
       "    </tr>\n",
       "    <tr>\n",
       "      <th>17</th>\n",
       "      <td>Float</td>\n",
       "      <td>https://www.floatapp.com</td>\n",
       "      <td>United Kingdom</td>\n",
       "      <td>B2B Software</td>\n",
       "      <td>1.955.982</td>\n",
       "      <td>Seed</td>\n",
       "      <td>01/20</td>\n",
       "    </tr>\n",
       "    <tr>\n",
       "      <th>18</th>\n",
       "      <td>Banxa</td>\n",
       "      <td>https://banxa.com/</td>\n",
       "      <td>Australia</td>\n",
       "      <td>Blockchain</td>\n",
       "      <td>2.000.000</td>\n",
       "      <td>Series A</td>\n",
       "      <td>01/20</td>\n",
       "    </tr>\n",
       "    <tr>\n",
       "      <th>19</th>\n",
       "      <td>Defendify</td>\n",
       "      <td>https://www.defendify.io/</td>\n",
       "      <td>United States</td>\n",
       "      <td>Cyber Security</td>\n",
       "      <td>2.000.000</td>\n",
       "      <td>Seed</td>\n",
       "      <td>01/20</td>\n",
       "    </tr>\n",
       "  </tbody>\n",
       "</table>\n",
       "</div>"
      ],
      "text/plain": [
       "          Company                       Website          Region  \\\n",
       "0        Internxt         https://internxt.com/           Spain   \n",
       "1        Dockflow          https://dockflow.com         Belgium   \n",
       "2       api.video             https://api.video          France   \n",
       "3         Buck.ai              https://buck.ai/   United States   \n",
       "4       Prodsight      https://www.prodsight.ai  United Kingdom   \n",
       "5        Harvestr           http://harvestr.io/          France   \n",
       "6         Seatrec           http://seatrec.com/   United States   \n",
       "7       BeeCanvas      https://beecanvas.com/en   United States   \n",
       "8     SmartKarrot  https://www.smartkarrot.com/   United States   \n",
       "9         Prisync           https://prisync.com          Turkey   \n",
       "10   Fundraise Up       https://fundraiseup.com   United States   \n",
       "11            Yac              https://yac.chat   United States   \n",
       "12  Cloverleaf.me          http://cloverleaf.me   United States   \n",
       "13         Docket          https://dockethq.com   United States   \n",
       "14      Podsights        https://podsights.com/   United States   \n",
       "15    SIMBA Chain     http://www.simbachain.com   United States   \n",
       "16        HeyTeam        http://www.heyteam.com          France   \n",
       "17          Float      https://www.floatapp.com  United Kingdom   \n",
       "18          Banxa            https://banxa.com/       Australia   \n",
       "19      Defendify     https://www.defendify.io/   United States   \n",
       "\n",
       "                   Vertical  Funding Amount (USD)  Funding Stage Funding Date  \n",
       "0                Blockchain                278.940          Seed        01/20  \n",
       "1                 Logistics                292.244          Seed        01/20  \n",
       "2            Developer APIs                300.000          Seed        01/20  \n",
       "3   Artificial Intelligence                300.000          Seed        01/20  \n",
       "4   Artificial Intelligence                529.013          Seed        01/20  \n",
       "5              B2B Software                650.000         Angel        01/20  \n",
       "6         Marine Technology                970.000          Seed        01/20  \n",
       "7              B2B Software              1.000.000          Seed        01/20  \n",
       "8              B2B Software              1.000.000         Angel        01/20  \n",
       "9              B2B Software              1.100.000          Seed        01/20  \n",
       "10             B2B Software              1.250.000          Seed        01/20  \n",
       "11             B2B Software              1.250.000          Seed        01/20  \n",
       "12          Human Resources              1.300.000          Seed        01/20  \n",
       "13             B2B Software              1.500.000          Seed        01/20  \n",
       "14                Marketing              1.500.000          Seed        01/20  \n",
       "15               Blockchain              1.500.000          Seed        01/20  \n",
       "16             B2B Software              1.544.561      Series A        01/20  \n",
       "17             B2B Software              1.955.982          Seed        01/20  \n",
       "18               Blockchain              2.000.000      Series A        01/20  \n",
       "19           Cyber Security              2.000.000          Seed        01/20  "
      ]
     },
     "execution_count": 177,
     "metadata": {},
     "output_type": "execute_result"
    }
   ],
   "source": [
    "df_data = pd.read_csv('../data/data-raw/tech_fundings.csv', on_bad_lines='skip', delimiter=';')\n",
    "df_data.head(20)"
   ]
  },
  {
   "cell_type": "markdown",
   "id": "9fae8aaf",
   "metadata": {},
   "source": [
    "# EDA"
   ]
  },
  {
   "cell_type": "code",
   "execution_count": 178,
   "id": "4e4853ac",
   "metadata": {},
   "outputs": [
    {
     "name": "stdout",
     "output_type": "stream",
     "text": [
      "<class 'pandas.core.frame.DataFrame'>\n",
      "RangeIndex: 3575 entries, 0 to 3574\n",
      "Data columns (total 7 columns):\n",
      " #   Column                  Non-Null Count  Dtype \n",
      "---  ------                  --------------  ----- \n",
      " 0   Company                 3575 non-null   object\n",
      " 1   Website                 3575 non-null   object\n",
      " 2   Region                  3563 non-null   object\n",
      " 3   Vertical                3575 non-null   object\n",
      " 4    Funding Amount (USD)   3566 non-null   object\n",
      " 5   Funding Stage           3511 non-null   object\n",
      " 6   Funding Date            3575 non-null   object\n",
      "dtypes: object(7)\n",
      "memory usage: 195.6+ KB\n"
     ]
    }
   ],
   "source": [
    "df_data.info()"
   ]
  },
  {
   "cell_type": "code",
   "execution_count": 179,
   "id": "4aca0b23",
   "metadata": {},
   "outputs": [
    {
     "data": {
      "text/plain": [
       "(3575, 7)"
      ]
     },
     "execution_count": 179,
     "metadata": {},
     "output_type": "execute_result"
    }
   ],
   "source": [
    "df_data.shape"
   ]
  },
  {
   "cell_type": "code",
   "execution_count": 180,
   "id": "8cfde811",
   "metadata": {},
   "outputs": [
    {
     "data": {
      "application/vnd.microsoft.datawrangler.viewer.v0+json": {
       "columns": [
        {
         "name": "index",
         "rawType": "object",
         "type": "string"
        },
        {
         "name": "0",
         "rawType": "object",
         "type": "unknown"
        }
       ],
       "ref": "373603ea-46cc-49e6-bbc8-d19cc4e2fbd8",
       "rows": [
        [
         "Company",
         "object"
        ],
        [
         "Website",
         "object"
        ],
        [
         "Region",
         "object"
        ],
        [
         "Vertical",
         "object"
        ],
        [
         " Funding Amount (USD) ",
         "object"
        ],
        [
         "Funding Stage",
         "object"
        ],
        [
         "Funding Date",
         "object"
        ]
       ],
       "shape": {
        "columns": 1,
        "rows": 7
       }
      },
      "text/plain": [
       "Company                   object\n",
       "Website                   object\n",
       "Region                    object\n",
       "Vertical                  object\n",
       " Funding Amount (USD)     object\n",
       "Funding Stage             object\n",
       "Funding Date              object\n",
       "dtype: object"
      ]
     },
     "execution_count": 180,
     "metadata": {},
     "output_type": "execute_result"
    }
   ],
   "source": [
    "df_data.dtypes"
   ]
  },
  {
   "cell_type": "code",
   "execution_count": 181,
   "id": "a869f01e",
   "metadata": {},
   "outputs": [
    {
     "data": {
      "application/vnd.microsoft.datawrangler.viewer.v0+json": {
       "columns": [
        {
         "name": "index",
         "rawType": "object",
         "type": "string"
        },
        {
         "name": "0",
         "rawType": "int64",
         "type": "integer"
        }
       ],
       "ref": "932d3a4d-a3c8-4b62-83a5-c4c1f48e80c7",
       "rows": [
        [
         "Company",
         "0"
        ],
        [
         "Website",
         "0"
        ],
        [
         "Region",
         "12"
        ],
        [
         "Vertical",
         "0"
        ],
        [
         " Funding Amount (USD) ",
         "9"
        ],
        [
         "Funding Stage",
         "64"
        ],
        [
         "Funding Date",
         "0"
        ]
       ],
       "shape": {
        "columns": 1,
        "rows": 7
       }
      },
      "text/plain": [
       "Company                    0\n",
       "Website                    0\n",
       "Region                    12\n",
       "Vertical                   0\n",
       " Funding Amount (USD)      9\n",
       "Funding Stage             64\n",
       "Funding Date               0\n",
       "dtype: int64"
      ]
     },
     "execution_count": 181,
     "metadata": {},
     "output_type": "execute_result"
    }
   ],
   "source": [
    "df_data.isnull().sum()"
   ]
  },
  {
   "cell_type": "markdown",
   "id": "c22063e0",
   "metadata": {},
   "source": [
    "# Data Manipulation"
   ]
  },
  {
   "cell_type": "code",
   "execution_count": 182,
   "id": "95dace62",
   "metadata": {},
   "outputs": [
    {
     "data": {
      "application/vnd.microsoft.datawrangler.viewer.v0+json": {
       "columns": [
        {
         "name": "index",
         "rawType": "object",
         "type": "string"
        },
        {
         "name": "0",
         "rawType": "int64",
         "type": "integer"
        }
       ],
       "ref": "3114c2e5-4218-4bcf-92a2-47010132124b",
       "rows": [
        [
         "Company",
         "0"
        ],
        [
         "Website",
         "0"
        ],
        [
         "Region",
         "0"
        ],
        [
         "Vertical",
         "0"
        ],
        [
         " Funding Amount (USD) ",
         "0"
        ],
        [
         "Funding Stage",
         "0"
        ],
        [
         "Funding Date",
         "0"
        ]
       ],
       "shape": {
        "columns": 1,
        "rows": 7
       }
      },
      "text/plain": [
       "Company                   0\n",
       "Website                   0\n",
       "Region                    0\n",
       "Vertical                  0\n",
       " Funding Amount (USD)     0\n",
       "Funding Stage             0\n",
       "Funding Date              0\n",
       "dtype: int64"
      ]
     },
     "execution_count": 182,
     "metadata": {},
     "output_type": "execute_result"
    }
   ],
   "source": [
    "df_data.dropna(inplace=True)\n",
    "df_data.isnull().sum()"
   ]
  },
  {
   "cell_type": "code",
   "execution_count": 183,
   "id": "a3404282",
   "metadata": {},
   "outputs": [],
   "source": [
    "df_data.drop(columns=['Website'], inplace=True, errors='ignore')\n",
    "\n",
    "df_data.columns = df_data.columns.str.strip()\n",
    "df_data['Funding Amount (USD)'] = df_data['Funding Amount (USD)'].str.replace('.', '', regex=False).str.replace(',', '', regex=False)\n",
    "\n",
    "df_data['Funding Amount (USD)'] = df_data['Funding Amount (USD)'].fillna(0).astype(int)"
   ]
  },
  {
   "cell_type": "code",
   "execution_count": 184,
   "id": "54048873",
   "metadata": {},
   "outputs": [
    {
     "data": {
      "application/vnd.microsoft.datawrangler.viewer.v0+json": {
       "columns": [
        {
         "name": "index",
         "rawType": "int64",
         "type": "integer"
        },
        {
         "name": "Company",
         "rawType": "object",
         "type": "string"
        },
        {
         "name": "Region",
         "rawType": "object",
         "type": "string"
        },
        {
         "name": "Vertical",
         "rawType": "object",
         "type": "string"
        },
        {
         "name": "Funding Amount (USD)",
         "rawType": "int64",
         "type": "integer"
        },
        {
         "name": "Funding Stage",
         "rawType": "object",
         "type": "string"
        },
        {
         "name": "Funding Date",
         "rawType": "object",
         "type": "string"
        }
       ],
       "ref": "d345ecca-1033-4d78-be1b-296548861fc9",
       "rows": [
        [
         "0",
         "Internxt",
         "Spain",
         "Blockchain",
         "278940",
         "Seed",
         "01/20"
        ],
        [
         "1",
         "Dockflow",
         "Belgium",
         "Logistics",
         "292244",
         "Seed",
         "01/20"
        ],
        [
         "2",
         "api.video",
         "France",
         "Developer APIs",
         "300000",
         "Seed",
         "01/20"
        ],
        [
         "3",
         "Buck.ai",
         "United States",
         "Artificial Intelligence",
         "300000",
         "Seed",
         "01/20"
        ],
        [
         "4",
         "Prodsight",
         "United Kingdom",
         "Artificial Intelligence",
         "529013",
         "Seed",
         "01/20"
        ],
        [
         "5",
         "Harvestr",
         "France",
         "B2B Software",
         "650000",
         "Angel",
         "01/20"
        ],
        [
         "6",
         "Seatrec",
         "United States",
         "Marine Technology",
         "970000",
         "Seed",
         "01/20"
        ],
        [
         "7",
         "BeeCanvas",
         "United States",
         "B2B Software",
         "1000000",
         "Seed",
         "01/20"
        ],
        [
         "8",
         "SmartKarrot",
         "United States",
         "B2B Software",
         "1000000",
         "Angel",
         "01/20"
        ],
        [
         "9",
         "Prisync",
         "Turkey",
         "B2B Software",
         "1100000",
         "Seed",
         "01/20"
        ],
        [
         "10",
         "Fundraise Up",
         "United States",
         "B2B Software",
         "1250000",
         "Seed",
         "01/20"
        ],
        [
         "11",
         "Yac",
         "United States",
         "B2B Software",
         "1250000",
         "Seed",
         "01/20"
        ],
        [
         "12",
         "Cloverleaf.me",
         "United States",
         "Human Resources",
         "1300000",
         "Seed",
         "01/20"
        ],
        [
         "13",
         "Docket",
         "United States",
         "B2B Software",
         "1500000",
         "Seed",
         "01/20"
        ],
        [
         "14",
         "Podsights",
         "United States",
         "Marketing",
         "1500000",
         "Seed",
         "01/20"
        ],
        [
         "15",
         "SIMBA Chain",
         "United States",
         "Blockchain",
         "1500000",
         "Seed",
         "01/20"
        ],
        [
         "16",
         "HeyTeam",
         "France",
         "B2B Software",
         "1544561",
         "Series A",
         "01/20"
        ],
        [
         "17",
         "Float",
         "United Kingdom",
         "B2B Software",
         "1955982",
         "Seed",
         "01/20"
        ],
        [
         "18",
         "Banxa",
         "Australia",
         "Blockchain",
         "2000000",
         "Series A",
         "01/20"
        ],
        [
         "19",
         "Defendify",
         "United States",
         "Cyber Security",
         "2000000",
         "Seed",
         "01/20"
        ],
        [
         "20",
         "Maze.design",
         "France",
         "B2B Software",
         "2000000",
         "Seed",
         "01/20"
        ],
        [
         "21",
         "OpenPhone",
         "United States",
         "B2B Software",
         "2000000",
         "Seed",
         "01/20"
        ],
        [
         "22",
         "Punch List",
         "United States",
         "Home Renovation",
         "2000000",
         "Seed",
         "01/20"
        ],
        [
         "23",
         "Nannybag",
         "France",
         "Travel",
         "2204536",
         "Seed",
         "01/20"
        ],
        [
         "24",
         "atta",
         "Japan",
         "Artificial Intelligence",
         "2751321",
         "Series A",
         "01/20"
        ],
        [
         "25",
         "Mine",
         "Israel",
         "Cyber Security",
         "3000000",
         "Seed",
         "01/20"
        ],
        [
         "26",
         "neptune.ai",
         "Poland",
         "Artificial Intelligence",
         "3000000",
         "Series A",
         "01/20"
        ],
        [
         "27",
         "Ubeya",
         "Israel",
         "Human Resources",
         "3500000",
         "Series A",
         "01/20"
        ],
        [
         "28",
         "Griffin",
         "United Kingdom",
         "FinTech",
         "3904358",
         "Seed",
         "01/20"
        ],
        [
         "29",
         "Coda Platform",
         "United Kingdom",
         "Gaming",
         "4000000",
         "Seed",
         "01/20"
        ],
        [
         "30",
         "Kloud.io",
         "United States",
         "B2B Software",
         "4000000",
         "Seed",
         "01/20"
        ],
        [
         "31",
         "Teller",
         "United Kingdom",
         "FinTech",
         "4000000",
         "Seed",
         "01/20"
        ],
        [
         "32",
         "Upflex",
         "United States",
         "CoWorking",
         "4100000",
         "Seed",
         "01/20"
        ],
        [
         "33",
         "9T Labs",
         "Switzerland",
         "Mechanical Engineering",
         "4300000",
         "Seed",
         "01/20"
        ],
        [
         "34",
         "1Huddle",
         "United States",
         "Human Resources",
         "5000000",
         "Series A",
         "01/20"
        ],
        [
         "35",
         "Juro",
         "United Kingdom",
         "B2B Software",
         "5000000",
         "Series A",
         "01/20"
        ],
        [
         "36",
         "Pando",
         "United Kingdom",
         "Health Care",
         "5000000",
         "Seed",
         "01/20"
        ],
        [
         "37",
         "Luxury Presence",
         "United States",
         "Real Estate",
         "5400000",
         "Series A",
         "01/20"
        ],
        [
         "38",
         "Nuweba",
         "Israel",
         "Cyber Security",
         "5400000",
         "Seed",
         "01/20"
        ],
        [
         "39",
         "Lynq",
         "United States",
         "Hardware",
         "6000000",
         "Seed",
         "01/20"
        ],
        [
         "40",
         "Stoplight",
         "United States",
         "B2B Software",
         "6000000",
         "Series A",
         "01/20"
        ],
        [
         "41",
         "Upgrade Pack",
         "United Kingdom",
         "Travel",
         "6511001",
         "Seed",
         "01/20"
        ],
        [
         "42",
         "Shipamax",
         "United Kingdom",
         "Logistics",
         "7000000",
         "Series A",
         "01/20"
        ],
        [
         "43",
         "TypingDNA",
         "United States",
         "Artificial Intelligence",
         "7000000",
         "Series A",
         "01/20"
        ],
        [
         "44",
         "SkyWatch",
         "Canada",
         "Big Data",
         "7500000",
         "Series A",
         "01/20"
        ],
        [
         "45",
         "Testbook.com",
         "India",
         "Education",
         "8300000",
         "Series B",
         "01/20"
        ],
        [
         "46",
         "Aviwest",
         "France",
         "Video",
         "8796728",
         "Series B",
         "01/20"
        ],
        [
         "47",
         "Ceterus",
         "United States",
         "B2B Software",
         "9100000",
         "Series C",
         "01/20"
        ],
        [
         "48",
         "AppOmni",
         "United States",
         "Cyber Security",
         "10000000",
         "Series A",
         "01/20"
        ],
        [
         "49",
         "Containous",
         "United States",
         "B2B Software",
         "10000000",
         "Series A",
         "01/20"
        ]
       ],
       "shape": {
        "columns": 6,
        "rows": 3493
       }
      },
      "text/html": [
       "<div>\n",
       "<style scoped>\n",
       "    .dataframe tbody tr th:only-of-type {\n",
       "        vertical-align: middle;\n",
       "    }\n",
       "\n",
       "    .dataframe tbody tr th {\n",
       "        vertical-align: top;\n",
       "    }\n",
       "\n",
       "    .dataframe thead th {\n",
       "        text-align: right;\n",
       "    }\n",
       "</style>\n",
       "<table border=\"1\" class=\"dataframe\">\n",
       "  <thead>\n",
       "    <tr style=\"text-align: right;\">\n",
       "      <th></th>\n",
       "      <th>Company</th>\n",
       "      <th>Region</th>\n",
       "      <th>Vertical</th>\n",
       "      <th>Funding Amount (USD)</th>\n",
       "      <th>Funding Stage</th>\n",
       "      <th>Funding Date</th>\n",
       "    </tr>\n",
       "  </thead>\n",
       "  <tbody>\n",
       "    <tr>\n",
       "      <th>0</th>\n",
       "      <td>Internxt</td>\n",
       "      <td>Spain</td>\n",
       "      <td>Blockchain</td>\n",
       "      <td>278940</td>\n",
       "      <td>Seed</td>\n",
       "      <td>01/20</td>\n",
       "    </tr>\n",
       "    <tr>\n",
       "      <th>1</th>\n",
       "      <td>Dockflow</td>\n",
       "      <td>Belgium</td>\n",
       "      <td>Logistics</td>\n",
       "      <td>292244</td>\n",
       "      <td>Seed</td>\n",
       "      <td>01/20</td>\n",
       "    </tr>\n",
       "    <tr>\n",
       "      <th>2</th>\n",
       "      <td>api.video</td>\n",
       "      <td>France</td>\n",
       "      <td>Developer APIs</td>\n",
       "      <td>300000</td>\n",
       "      <td>Seed</td>\n",
       "      <td>01/20</td>\n",
       "    </tr>\n",
       "    <tr>\n",
       "      <th>3</th>\n",
       "      <td>Buck.ai</td>\n",
       "      <td>United States</td>\n",
       "      <td>Artificial Intelligence</td>\n",
       "      <td>300000</td>\n",
       "      <td>Seed</td>\n",
       "      <td>01/20</td>\n",
       "    </tr>\n",
       "    <tr>\n",
       "      <th>4</th>\n",
       "      <td>Prodsight</td>\n",
       "      <td>United Kingdom</td>\n",
       "      <td>Artificial Intelligence</td>\n",
       "      <td>529013</td>\n",
       "      <td>Seed</td>\n",
       "      <td>01/20</td>\n",
       "    </tr>\n",
       "    <tr>\n",
       "      <th>...</th>\n",
       "      <td>...</td>\n",
       "      <td>...</td>\n",
       "      <td>...</td>\n",
       "      <td>...</td>\n",
       "      <td>...</td>\n",
       "      <td>...</td>\n",
       "    </tr>\n",
       "    <tr>\n",
       "      <th>3570</th>\n",
       "      <td>Headout</td>\n",
       "      <td>United States</td>\n",
       "      <td>Travel</td>\n",
       "      <td>12000000</td>\n",
       "      <td>Series B</td>\n",
       "      <td>09/21</td>\n",
       "    </tr>\n",
       "    <tr>\n",
       "      <th>3571</th>\n",
       "      <td>OLIO</td>\n",
       "      <td>United Kingdom</td>\n",
       "      <td>Wellness</td>\n",
       "      <td>43000000</td>\n",
       "      <td>Series B</td>\n",
       "      <td>09/21</td>\n",
       "    </tr>\n",
       "    <tr>\n",
       "      <th>3572</th>\n",
       "      <td>Trees for Life</td>\n",
       "      <td>United Kingdom</td>\n",
       "      <td>Wellness</td>\n",
       "      <td>2737468</td>\n",
       "      <td>Crowdfunding</td>\n",
       "      <td>09/21</td>\n",
       "    </tr>\n",
       "    <tr>\n",
       "      <th>3573</th>\n",
       "      <td>Britishvolt</td>\n",
       "      <td>United Kingdom</td>\n",
       "      <td>Wellness</td>\n",
       "      <td>70000000</td>\n",
       "      <td>Series B</td>\n",
       "      <td>09/21</td>\n",
       "    </tr>\n",
       "    <tr>\n",
       "      <th>3574</th>\n",
       "      <td>Greenly</td>\n",
       "      <td>France</td>\n",
       "      <td>Wellness</td>\n",
       "      <td>2953675</td>\n",
       "      <td>Seed</td>\n",
       "      <td>09/21</td>\n",
       "    </tr>\n",
       "  </tbody>\n",
       "</table>\n",
       "<p>3493 rows × 6 columns</p>\n",
       "</div>"
      ],
      "text/plain": [
       "             Company          Region                 Vertical  \\\n",
       "0           Internxt           Spain               Blockchain   \n",
       "1           Dockflow         Belgium                Logistics   \n",
       "2          api.video          France           Developer APIs   \n",
       "3            Buck.ai   United States  Artificial Intelligence   \n",
       "4          Prodsight  United Kingdom  Artificial Intelligence   \n",
       "...              ...             ...                      ...   \n",
       "3570         Headout   United States                   Travel   \n",
       "3571            OLIO  United Kingdom                 Wellness   \n",
       "3572  Trees for Life  United Kingdom                 Wellness   \n",
       "3573     Britishvolt  United Kingdom                 Wellness   \n",
       "3574         Greenly          France                 Wellness   \n",
       "\n",
       "      Funding Amount (USD) Funding Stage Funding Date  \n",
       "0                   278940          Seed        01/20  \n",
       "1                   292244          Seed        01/20  \n",
       "2                   300000          Seed        01/20  \n",
       "3                   300000          Seed        01/20  \n",
       "4                   529013          Seed        01/20  \n",
       "...                    ...           ...          ...  \n",
       "3570              12000000      Series B        09/21  \n",
       "3571              43000000      Series B        09/21  \n",
       "3572               2737468  Crowdfunding        09/21  \n",
       "3573              70000000      Series B        09/21  \n",
       "3574               2953675          Seed        09/21  \n",
       "\n",
       "[3493 rows x 6 columns]"
      ]
     },
     "execution_count": 184,
     "metadata": {},
     "output_type": "execute_result"
    }
   ],
   "source": [
    "df_data"
   ]
  },
  {
   "cell_type": "markdown",
   "id": "88e1eb84",
   "metadata": {},
   "source": [
    "# Export"
   ]
  },
  {
   "cell_type": "code",
   "execution_count": 186,
   "id": "f912c6d5",
   "metadata": {},
   "outputs": [],
   "source": [
    "df_data.to_csv('../data/data-processed/tech_fundings.csv', index=False)"
   ]
  }
 ],
 "metadata": {
  "kernelspec": {
   "display_name": ".venv",
   "language": "python",
   "name": "python3"
  },
  "language_info": {
   "codemirror_mode": {
    "name": "ipython",
    "version": 3
   },
   "file_extension": ".py",
   "mimetype": "text/x-python",
   "name": "python",
   "nbconvert_exporter": "python",
   "pygments_lexer": "ipython3",
   "version": "3.11.9"
  }
 },
 "nbformat": 4,
 "nbformat_minor": 5
}
